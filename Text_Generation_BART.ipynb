{
 "cells": [
  {
   "cell_type": "markdown",
   "metadata": {},
   "source": [
    "# Notebook 4: Text Generation with BART\n",
    "\n",
    "## Objective\n",
    "In this notebook, we will:\n",
    "1. Load the preprocessed dataset from Notebook 1.\n",
    "2. Fine-tune a generative model (e.g., BART) to generate concise and accurate summaries of videos.\n",
    "3. Evaluate the quality of generated summaries using standard text evaluation metrics such as ROUGE and BLEU.\n",
    "\n",
    "## Steps in This Notebook\n",
    "1. Load the preprocessed dataset and prepare the text data.\n",
    "2. Fine-tune a pre-trained generative model using captions as input and task descriptions as target summaries.\n",
    "3. Generate and evaluate text summaries using the fine-tuned model."
   ]
  },
  {
   "cell_type": "markdown",
   "metadata": {},
   "source": [
    "## Step 1: Load and Explore the Preprocessed Dataset\n",
    "In this step, we will:\n",
    "1. Load the preprocessed dataset (`preprocessed_dataset.csv`) created in Notebook 1.\n",
    "2. Explore the structure of the dataset to ensure it is ready for fine-tuning."
   ]
  },
  {
   "cell_type": "code",
   "execution_count": 1,
   "metadata": {},
   "outputs": [
    {
     "data": {
      "text/html": [
       "<div>\n",
       "<style scoped>\n",
       "    .dataframe tbody tr th:only-of-type {\n",
       "        vertical-align: middle;\n",
       "    }\n",
       "\n",
       "    .dataframe tbody tr th {\n",
       "        vertical-align: top;\n",
       "    }\n",
       "\n",
       "    .dataframe thead th {\n",
       "        text-align: right;\n",
       "    }\n",
       "</style>\n",
       "<table border=\"1\" class=\"dataframe\">\n",
       "  <thead>\n",
       "    <tr style=\"text-align: right;\">\n",
       "      <th></th>\n",
       "      <th>video_id</th>\n",
       "      <th>category_1</th>\n",
       "      <th>category_2</th>\n",
       "      <th>task_description</th>\n",
       "      <th>captions</th>\n",
       "    </tr>\n",
       "  </thead>\n",
       "  <tbody>\n",
       "    <tr>\n",
       "      <th>0</th>\n",
       "      <td>nVbIUDjzWY4</td>\n",
       "      <td>Cars &amp; Other Vehicles</td>\n",
       "      <td>Motorcycles</td>\n",
       "      <td>Paint a Motorcycle</td>\n",
       "      <td>{'start': [13.64, 15.86, 20.6, 23.96, 26.36, 2...</td>\n",
       "    </tr>\n",
       "    <tr>\n",
       "      <th>1</th>\n",
       "      <td>rwmt7Cbuvfs</td>\n",
       "      <td>Cars &amp; Other Vehicles</td>\n",
       "      <td>Motorcycles</td>\n",
       "      <td>Paint a Motorcycle</td>\n",
       "      <td>{'start': [1.8, 6.32, 7.32, 10.86, 13.28, 15.6...</td>\n",
       "    </tr>\n",
       "    <tr>\n",
       "      <th>2</th>\n",
       "      <td>HnTLh99gcxY</td>\n",
       "      <td>Cars &amp; Other Vehicles</td>\n",
       "      <td>Motorcycles</td>\n",
       "      <td>Paint a Motorcycle</td>\n",
       "      <td>{'start': [0.03, 2.37, 4.29, 6.69, 8.42, 8.67,...</td>\n",
       "    </tr>\n",
       "    <tr>\n",
       "      <th>3</th>\n",
       "      <td>RAidUDTPZ-k</td>\n",
       "      <td>Cars &amp; Other Vehicles</td>\n",
       "      <td>Motorcycles</td>\n",
       "      <td>Paint a Motorcycle</td>\n",
       "      <td>{'start': [0.06, 1.38, 3.03, 5.13, 7.44, 8.73,...</td>\n",
       "    </tr>\n",
       "    <tr>\n",
       "      <th>4</th>\n",
       "      <td>tYQoPHwNkho</td>\n",
       "      <td>Cars &amp; Other Vehicles</td>\n",
       "      <td>Motorcycles</td>\n",
       "      <td>Paint a Motorcycle</td>\n",
       "      <td>{'start': [0.0, 6.93, 8.94, 11.07, 12.71, 15.2...</td>\n",
       "    </tr>\n",
       "  </tbody>\n",
       "</table>\n",
       "</div>"
      ],
      "text/plain": [
       "      video_id             category_1   category_2    task_description  \\\n",
       "0  nVbIUDjzWY4  Cars & Other Vehicles  Motorcycles  Paint a Motorcycle   \n",
       "1  rwmt7Cbuvfs  Cars & Other Vehicles  Motorcycles  Paint a Motorcycle   \n",
       "2  HnTLh99gcxY  Cars & Other Vehicles  Motorcycles  Paint a Motorcycle   \n",
       "3  RAidUDTPZ-k  Cars & Other Vehicles  Motorcycles  Paint a Motorcycle   \n",
       "4  tYQoPHwNkho  Cars & Other Vehicles  Motorcycles  Paint a Motorcycle   \n",
       "\n",
       "                                            captions  \n",
       "0  {'start': [13.64, 15.86, 20.6, 23.96, 26.36, 2...  \n",
       "1  {'start': [1.8, 6.32, 7.32, 10.86, 13.28, 15.6...  \n",
       "2  {'start': [0.03, 2.37, 4.29, 6.69, 8.42, 8.67,...  \n",
       "3  {'start': [0.06, 1.38, 3.03, 5.13, 7.44, 8.73,...  \n",
       "4  {'start': [0.0, 6.93, 8.94, 11.07, 12.71, 15.2...  "
      ]
     },
     "execution_count": 1,
     "metadata": {},
     "output_type": "execute_result"
    }
   ],
   "source": [
    "import pandas as pd\n",
    "\n",
    "# Load the preprocessed dataset\n",
    "preprocessed_data = pd.read_csv(\"preprocessed_dataset.csv\")\n",
    "\n",
    "# Display the first few rows to verify the structure\n",
    "preprocessed_data.head()"
   ]
  },
  {
   "cell_type": "markdown",
   "metadata": {},
   "source": [
    "## Step 2: Prepare Text Data for Fine-Tuning\n",
    "In this step, we will:\n",
    "1. Extract the `captions` as input data (source text) and `task_description` as target summaries.\n",
    "2. Process the text data to ensure it is formatted correctly for the fine-tuning step."
   ]
  },
  {
   "cell_type": "code",
   "execution_count": 2,
   "metadata": {},
   "outputs": [
    {
     "name": "stdout",
     "output_type": "stream",
     "text": [
      "Source (Captions): {'start': [13.64, 15.86, 20.6, 23.96, 26.36, 29.36, 32.0, 35.33, 37.69, 40.67, 42.65, 44.57, 47.08, 48.89, 51.19, 53.96, 57.22, 59.23, 60.58, 62.78, 64.15, 66.35, 68.21000000000001, 69.83, 71.81, 73.82, 76.28, 77.78, 79.64, 81.2, 82.97, 86.06, 87.95, 89.3, 91.58, 93.11, 96.95, 99.41, 102.4, 104.65, 106.73, 110.63, 112.58, 114.83, 118.31, 120.47, 123.8, 125.54, 127.7, 130.0, 131.84, 132.62, 134.45, 136.06, 138.53, 140.29, 143.93, 145.97, 147.12, 149.48, 153.48, 155.67000000000004, 159.59, 161.57999999999996, 165.15, 165.66, 167.91, 170.16, 171.62, 174.98, 177.93, 179.73, 181.11, 183.54, 186.56, 188.43, 189.93, 191.26, 193.98, 195.75, 198.29, 202.29, 204.42, 205.68, 206.22, 208.59, 211.47, 213.03, 215.63, 216.93, 218.04, 219.56, 222.54, 225.9, 227.66, 230.48, 232.16, 233.73, 236.43, 238.79, 242.43, 243.93, 246.32, 248.25, 250.07, 252.35, 254.43, 257.45, 259.56, 262.65, 264.63, 266.37, 270.38, 272.52, 274.47, 279.68, 282.71, 286.49, 289.61, 294.08, 296.81, 298.67, 301.61, 303.89, 306.11, 311.36, 315.74, 320.45, 324.08, 326.75, 332.12, 336.65, 338.87, 340.28, 343.31, 345.62, 347.12, 348.95, 352.52, 355.13, 357.32, 359.78, 361.28, 363.74, 367.25, 369.68, 373.43, 375.44, 377.93, 380.66, 384.23, 386.81, 388.86, 391.58, 393.17, 396.17, 398.27, 400.93, 402.83, 406.01, 407.81, 408.16, 409.96, 411.71, 413.81, 415.06, 416.06, 417.31, 419.18, 421.66, 424.18, 426.31], 'end': [18.05, 20.6, 26.36, 29.36, 32.0, 35.33, 37.69, 40.67, 42.65, 44.57, 47.08, 48.89, 51.19, 53.96, 57.22, 59.23, 60.58, 62.78, 64.15, 66.35, 68.21000000000001, 69.83, 71.81, 73.82, 76.28, 77.78, 79.64, 81.2, 82.97, 86.06, 87.95, 89.3, 91.58, 93.11, 96.95, 99.41, 102.4, 104.65, 106.73, 108.95, 110.63, 114.83, 118.31, 120.47, 123.8, 125.54, 127.7, 130.0, 131.84, 132.62, 134.45, 136.06, 138.53, 140.29, 143.93, 145.97, 147.12, 149.48, 151.11, 153.48, 159.59, 161.57999999999996, 165.15, 165.66, 167.91, 170.16, 171.62, 174.98, 177.93, 179.73, 181.11, 183.54, 186.56, 188.43, 189.93, 191.26, 193.98, 195.75, 198.29, 202.29, 204.42, 205.68, 206.22, 208.59, 211.47, 213.03, 215.63, 216.93, 218.04, 219.56, 222.54, 225.9, 227.66, 230.48, 232.16, 233.73, 236.43, 238.79, 242.43, 243.93, 246.32, 248.25, 250.07, 252.35, 254.43, 257.45, 259.56, 262.65, 264.63, 266.37, 270.38, 272.52, 274.47, 276.45, 279.68, 286.49, 289.61, 294.08, 296.81, 298.67, 301.61, 303.89, 306.11, 311.36, 315.74, 320.45, 324.08, 326.75, 332.12, 336.65, 338.87, 340.28, 343.31, 345.62, 347.12, 348.95, 352.52, 355.13, 357.32, 359.78, 361.28, 363.74, 367.25, 369.68, 373.43, 375.44, 377.93, 380.66, 384.23, 386.81, 388.86, 391.58, 393.17, 396.17, 398.27, 400.93, 402.83, 406.01, 407.81, 408.16, 409.96, 411.71, 413.81, 415.06, 416.06, 417.31, 419.18, 421.66, 424.18, 426.31, 429.15, 429.15], 'text': ['folks roylott v twins', 'aids pink project', 'primed pieces guide coded', 'block times got', 'nice surfaces paint job', 'walmart preparing', 'get ready exterior paint job', 'inside tunnel tank', 'inside fender', 'care rear', 'fenders line', 'camera', 'primed anti', 'corrosive primer took red scuff pad', 'scuff pad inside', 'area', 'welded brackets fender', 'little seam sealer', 'pieces', 'tape paper', 'outside flat', 'block inside', 'paint job black', 'clean', 'get into spending', 'lot time putting base coat clear', 'coat inside', \"fender nobody's\", 'sense', 'tape', 'trim block got nice', 'semi gloss blacked', 'inside', 'inside tunnel', 'tape get', 'stuff primed', 'setup get things get garage prep', 'get jigs', 'get defenders', 'tank mounted get ready paint', 'point come', 'black base', 'coat folks', 'parts sprayed', 'inside pieces trim', 'black gives satin black', 'finish nice quick', 'cleans paint', 'gloss black outside', 'visible', 'under', 'acceptable grab camera', \"what's\", 'connell', 'inside fender', 'spread seam', 'sealer welding', 'cleans air', 'fender', 'blacked inside', 'dry pretty good prep', 'garage get get ready', 'items paint', 'fixtures stands get', 'painted', 'set come', 'go paint process', 'get base coat', 'got', 'garage blown', 'wet floor edges', 'walls nooks crannies', 'hose seal dust', 'took bench covered', 'masking paper fixtures', 'fenders couple', 'masking paper', 'taken fenders got', 'wall mounted', 'minute precaution', 'took red scuff pad went quickly', 'fenders thing', 'compressed air', 'mate', 'air hose blow', 'fixture fenders little', 'nooks crannies make', 'blow dust', 'little water', \"what's\", 'anthon things nature', 'get squared away', 'wash pretty cleaner', 'point pretty ready', 'go get gun set pink ball', 'set base', 'tape folks get blowing', 'washed pre cleanup', 'looked good good', 'go got garage set', 'closed lights', 'turn exhaust fan got gun', 'set got face coat', 'little close', 'got', \"here's tank got set\", 'jig past', 'works good', '2x4 attach', 'screws end sit', 'end', 'tank', 'flip get', 'good', 'flip', 'seesaws forth got', 'set got fender', 'jig got', 'fender jig got', 'spray gun got base coat', 'mixed base coat uh', 'sherwin williams dimension mixin', 'mixing ratio parts base', 'reducer', 'medium coats', 'surface tap', 'pieces get fan gun', 'get paint strained into gun', 'coat base', 'idea cope', 'cover piece color', 'coat got', 'able', 'panic', 'flash depending', 'environment mean worried', 'seventy eighty degrees', 'pretty perfect flash', 'minutes', 'notice little matte flat', 'finish get', 'eye finish cup', 'finished', 'application wait 10 15 minutes', 'coat coats', 'covered', 'think coat', 'recommend', 'flash go', 'edges sides undersides', 'make areas', 'paint', 'clear', 'start process', 'minutes', 'check areas covered', 'gun dust areas', 'make big difference', 'happened painter', 'paint got', 'little', 'said', \"didn't hit\", 'certain angle', 'sitting paint', 'screwed', 'gotta sand thing', 'paint get caught', 'make check edges', 'apply base coat', 'come talk', 'clear coat']}\n",
      "Target (Task Description): Paint a Motorcycle\n",
      "--------------------------------------------------\n",
      "Source (Captions): {'start': [1.8, 6.32, 7.32, 10.86, 13.28, 15.62, 20.42, 24.92, 26.74, 29.64, 33.98, 34.98, 38.93, 40.01, 43.75, 48.1, 51.0, 55.66, 59.32, 61.35, 64.7, 67.83, 71.34, 75.5, 77.87, 82.48, 86.9, 88.53, 93.28, 98.06, 101.56, 105.5, 107.07, 110.92, 113.23, 117.49, 119.95, 124.39, 127.39, 132.42, 137.04, 140.23, 143.49, 144.49, 148.09, 152.82, 158.3], 'end': [3.42, 6.92, 10.58, 12.66, 15.2, 19.58, 24.68, 26.74, 29.64, 33.98, 34.98, 38.93, 40.01, 43.75, 48.1, 51.0, 55.48, 59.2, 61.34, 64.69, 67.83, 71.34, 75.5, 77.86, 82.48, 86.9, 88.53, 93.28, 98.06, 101.56, 105.5, 107.07, 110.92, 113.23, 117.49, 119.95, 124.39, 127.39, 132.42, 137.04, 139.23, 143.49, 144.49, 146.38, 152.8, 156.06, 160.76], 'text': ['plasti dip rims', 'begin', 'thing clean dog piss rims', 'literally metaphorically', 'dry rim thoroughly clean rag', 'tape bearings transparent tape block threads mount brake disks', 'able stuff random paper amp plastic laying garage cause', 'professional', 'prepped sides time get spraying', 'make lit ventilated area rim contact', 'sun', 'thing asshole star 93 million miles away fuck', 'paint job', 'shaking vigorously full minute told bike', 'slow test spray piece cardboard paper', 'cat test piece choice', 'coat start light coat 50 60 coverage', 'spray painting thin layer help create bond', 'disperse full coat', 'spray short bursts spraying', 'coat dry 30 min', 'spray second coat 95 100 coverage', 'main goal apply coat evenly entire wheel', 'allow 30 min dry', 'based particular plasti dip project fourth coat', \"could've sprayed fourth layer decided coat\", 'thicker layer', 'finally achieve attractive shine match bald head provide protection', 'form elements added 1 coat plasti dip enhancer glossifier', 'hour remove excess plasti dip tire', 'contrary suggest using painters tape chicken strips', 'preparation', 'choose use brake cleaner remove plasti dip', 'thin peel', 'finally time pat admire work amp cure', '8 hours install tire', 'alright think came looking pretty fan fuckin tastic', 'got value', 'spread love ask questions respond', 'wanna pictures post pictures instagram', 'tomorrow get bike', 'watching catch later', 'peace', 'alright', 'alright hahaha enjoy', 'comment subscribe god damnit', 'hahahaha shit']}\n",
      "Target (Task Description): Paint a Motorcycle\n",
      "--------------------------------------------------\n",
      "Source (Captions): {'start': [0.03, 2.37, 4.29, 6.69, 8.42, 8.67, 12.69, 14.16, 16.13, 18.0, 20.27, 22.65, 25.85, 28.05, 30.75, 32.96, 35.61, 36.78, 39.11, 41.07, 42.98, 67.61, 70.56, 73.28, 74.53999999999998, 76.28, 79.49, 81.05, 82.85, 84.86, 121.58, 124.93, 150.7, 153.98, 155.64, 157.37, 160.25, 163.04, 167.48, 168.84, 171.06, 191.51, 193.98, 196.48, 198.73, 201.09, 203.98, 207.9, 210.09, 215.2, 219.96, 224.81, 229.02, 232.37, 241.97, 245.0, 278.83, 281.93, 284.62, 286.21, 287.96, 289.55, 299.75, 302.25, 306.57, 309.12, 311.28, 313.35, 315.6, 323.47, 326.72, 329.21, 331.28, 332.99, 335.68, 336.97, 340.12, 342.3400000000001, 344.12, 346.4, 348.65, 351.13, 353.38, 356.27], 'end': [4.29, 6.69, 8.42, 8.67, 12.69, 14.16, 16.13, 18.0, 20.27, 22.65, 25.85, 28.05, 30.75, 32.96, 35.61, 36.78, 39.11, 41.07, 42.98, 44.39, 47.71, 73.28, 74.53999999999998, 76.28, 79.18, 79.18, 82.85, 84.86, 87.7, 87.7, 129.27, 129.27, 155.64, 157.37, 160.25, 163.04, 167.48, 168.84, 171.06, 173.45, 173.45, 196.48, 198.73, 201.09, 203.98, 207.9, 210.09, 215.2, 219.96, 224.81, 228.68, 228.68, 237.06, 237.06, 248.89, 248.89, 284.62, 286.21, 287.96, 289.55, 292.0, 292.0, 306.57, 309.12, 311.28, 313.35, 315.6, 319.04, 319.04, 329.21, 331.28, 332.99, 335.68, 336.97, 340.12, 342.3400000000001, 344.12, 346.4, 348.65, 351.13, 353.38, 356.27, 358.41, 358.41], 'text': [\"previously customer mods they've\", 'faded damage paint motorcycle', 'tasted thing', 'primer spray', 'booth', 'pretty good custom paint job', 'decided paint', 'bike track race bearings', 'tank', 'plastic parts paint', 'flurry color suggested', 'picked', 'color scheme n gm ford', 'racing team colors big fan', 'motogp thought color', 'scheme ago uh prepared', 'clean oil wax grease', 'remover spray 2k', 'transparent sealer', 'help new paint stick', 'ready start color scheme', '2k cielo niche promoter', 'lot quality', 'especially', 'asking outlines helps paint', 'stick lot', 'got lot black colors', 'game bring bright black', 'pull pots ready', 'start mopping', 'best time data people', 'file tents', 'master lines', 'color', 'spray white', 'fluo colours', 'go white base', 'get reflective book instead', 'playing black', 'white british', 'bluest', 'using spray cheap', 'fluorescent colors spray cheap', 'australian company', 'australia provide quality', 'custom paints including candies curls', 'custom tanks yes good', 'start', 'masking lines', 'color orange', 'red thread', 'watches', 'letter color scheme', 'hopefully works excuse', 'won lansford', 'carried', 'dude zero colors spreadsheet bass', 'player clearer debate color', 'spray bass', 'dry', 'minutes spray clear', 'coat', 'spray pack', 'satin tweeter 50', 'cent gloss full', 'gloss', '2 pack detection', 'fuel resistance chemical resistance', 'motorcycles', 'go paint bike', 'fluro color scheme real damage', 'paint work start paint', 'stripped got bare', 'metal bare plastic painted', 'thing color scheme wanted', 'using fluro color got', 'white base fluro', 'sweep', 'paint colors', 'make get white', 'fluo clear', 'coat protect pretty', 'ho finish', 'time']}\n",
      "Target (Task Description): Paint a Motorcycle\n",
      "--------------------------------------------------\n"
     ]
    }
   ],
   "source": [
    "# Extract source (captions) and target (task_description) text\n",
    "source_text = preprocessed_data[\"captions\"]\n",
    "target_text = preprocessed_data[\"task_description\"]\n",
    "\n",
    "# Display a sample of the source and target text for verification\n",
    "for i in range(3):  # Display the first 3 examples\n",
    "    print(f\"Source (Captions): {source_text[i]}\")\n",
    "    print(f\"Target (Task Description): {target_text[i]}\")\n",
    "    print(\"-\" * 50)"
   ]
  },
  {
   "cell_type": "markdown",
   "metadata": {},
   "source": [
    "## Step 3: Process Captions into Plain Text\n",
    "The `captions` column does not need additional evaluation with `eval()`. We will:\n",
    "1. Access the `text` key in the dictionaries stored in the `captions` column.\n",
    "2. Concatenate all captions into a single string for each video.\n",
    "3. Handle any missing or malformed captions gracefully."
   ]
  },
  {
   "cell_type": "markdown",
   "metadata": {},
   "source": [
    "## Simplified Processing of Captions\n",
    "The `captions` column is already structured as dictionaries, so:\n",
    "1. We will directly access the `text` key.\n",
    "2. Concatenate the strings in the `text` list into a single string for each video.\n",
    "3. Store the result in a new column, `processed_captions`."
   ]
  },
  {
   "cell_type": "code",
   "execution_count": 3,
   "metadata": {},
   "outputs": [
    {
     "name": "stdout",
     "output_type": "stream",
     "text": [
      "Processed Captions: \n",
      "Target (Task Description): Paint a Motorcycle\n",
      "--------------------------------------------------\n",
      "Processed Captions: \n",
      "Target (Task Description): Paint a Motorcycle\n",
      "--------------------------------------------------\n",
      "Processed Captions: \n",
      "Target (Task Description): Paint a Motorcycle\n",
      "--------------------------------------------------\n"
     ]
    }
   ],
   "source": [
    "# Simplified function to process captions into plain text\n",
    "def process_captions(caption_data):\n",
    "    try:\n",
    "        # Extract the 'text' field and join all captions into a single string\n",
    "        return \" \".join(caption_data[\"text\"])\n",
    "    except (TypeError, KeyError):\n",
    "        # Handle missing or malformed captions\n",
    "        return \"\"\n",
    "\n",
    "# Apply the function directly to the captions column\n",
    "preprocessed_data[\"processed_captions\"] = preprocessed_data[\"captions\"].apply(process_captions)\n",
    "\n",
    "# Display a sample of the processed captions\n",
    "for i in range(3):  # Display the first 3 examples\n",
    "    print(f\"Processed Captions: {preprocessed_data['processed_captions'][i]}\")\n",
    "    print(f\"Target (Task Description): {target_text[i]}\")\n",
    "    print(\"-\" * 50)"
   ]
  },
  {
   "cell_type": "markdown",
   "metadata": {},
   "source": [
    "## Step 4: Split Data into Training, Validation, and Testing Sets\n",
    "\n",
    "**What We Are Doing:**\n",
    "\n",
    "**Purpose:** Divide the preprocessed data into three subsets to evaluate the model's performance during and after training.\n",
    "\n",
    "**Steps:**\n",
    "1. Split the data into training + validation (90%) and testing (10%) subsets.\n",
    "2. Further divide the training + validation subset into training (80%) and validation (10%) subsets.\n",
    "3. Shuffle the data to ensure examples are well-distributed.\n",
    "4. Set a random seed for reproducibility of results."
   ]
  },
  {
   "cell_type": "code",
   "execution_count": 4,
   "metadata": {},
   "outputs": [
    {
     "name": "stdout",
     "output_type": "stream",
     "text": [
      "Original dataset size: 1238867\n",
      "Reduced dataset size: 24777\n",
      "Training set size: 19823\n",
      "Validation set size: 2476\n",
      "Testing set size: 2478\n",
      "Unique values in category_1:\n",
      "['Food and Entertaining' 'Hobbies and Crafts' 'Pets and Animals'\n",
      " 'Personal Care and Style' 'Home and Garden'\n",
      " 'Education and Communications' 'Cars & Other Vehicles' 'Health'\n",
      " 'Holidays and Traditions' 'Arts and Entertainment' 'Sports and Fitness'\n",
      " 'Computers and Electronics' nan 'Family Life' 'Philosophy and Religion'\n",
      " 'Travel' 'Work World' 'Finance and Business' 'Youth']\n",
      "\n",
      "Unique values in category_2:\n",
      "['Recipes' 'Tricks and Pranks' 'Dogs' 'Drinks' 'Grooming'\n",
      " 'Food Preparation' 'Gardening' 'Housekeeping' 'Speaking'\n",
      " 'Care and Use of Cooking Equipment' 'Driving Techniques' 'Crafts'\n",
      " 'Alternative Health' 'Tools' 'Parties' 'Easter' 'Subjects'\n",
      " 'Landscaping and Outdoor Building' 'Herbs and Spices' 'Music'\n",
      " 'Home Improvements and Repairs' 'Collecting' 'Individual Sports'\n",
      " \"Mother's Day\" 'Cars' 'Crustaceans' 'Toys' 'Motorcycles' 'Vehicle Sports'\n",
      " 'Holiday Cooking' 'Bicycles' 'TV and Home Audio' nan 'Woodworking'\n",
      " 'Emotional Health' 'Disaster Preparedness' 'Injury and Accidents'\n",
      " 'Photography' 'Outdoor Recreation'\n",
      " 'Digital Technology Art and Craft Projects' 'Moving House and Packing'\n",
      " 'Christmas' 'Writing' 'Halloween' 'Games' 'Boats' 'Boredom Busters'\n",
      " 'Fashion' 'Medication and Medical Equipment' 'Women’s Health'\n",
      " 'Off Road Vehicles' 'Home Decorating' 'Thanksgiving' 'Breakfast' 'Horses'\n",
      " 'Swimming Pools Spas and Hot Tubs' 'Aviation' 'Scooters'\n",
      " 'Appreciation of Food' 'Books' 'Fish' 'Birds' 'Cats' 'Model Making'\n",
      " 'Nuts and Seeds' 'Gift Giving' 'Cooking for Children' 'Barbecue'\n",
      " 'Amateur Radio' 'Health Care and Medical Information' 'Small and Furry'\n",
      " 'Valentines Day' 'Parenting' 'Trailers' 'Team Sports' 'Faith and Belief'\n",
      " 'Optical Devices' 'Bugs' 'Sustainable Living' 'Painting' 'Reptiles'\n",
      " 'General Pet Accessories' 'Presentations' 'Conditions and Treatments'\n",
      " 'Office Skills' 'Trucks' 'Carnivals Circuses and Theme Parks' 'Fireworks'\n",
      " 'Recipe Books and Cookbooks' 'Drawing' 'Business' 'Phones and Gadgets'\n",
      " 'Personal Hygiene' 'Costumes' 'Sculpting' 'Recreational Drug Use'\n",
      " 'Snails and Slugs' 'Maintenance and Repair' 'Food Safety'\n",
      " 'Personal Care for Youth' 'Hardware' 'Recreational Vehicles'\n",
      " 'Health Hygiene' \"Men's Health\" 'Software' 'Religion' 'Picnics' 'Laptops'\n",
      " 'Wildlife' 'Weddings' 'Birthdays' 'Cosplay and Role Playing'\n",
      " 'Personal Fitness' 'Tattoos and Piercing' 'Reproductive Health'\n",
      " 'Kite Making and Kite Flying' \"Saint Patrick's Day\" 'Rabbits' 'Passover'\n",
      " 'Movies' 'Travel Tips' 'Diet & Lifestyle' 'School Stuff' 'Networking'\n",
      " 'Occupations' 'Wargaming' 'Animal Welfare Activism' 'Amphibian'\n",
      " 'Dining Out' 'Dining Etiquette' 'Personal Space' 'General Pet Health'\n",
      " 'Flags' 'Diwali' 'Performing Arts' 'Exhibited Arts' 'Animal Rescue'\n",
      " 'Social Activism']\n",
      "\n",
      "Sample training data:\n",
      "            video_id             category_1         category_2  \\\n",
      "243070   crXjYKE-slI  Food and Entertaining             Drinks   \n",
      "1123162  904ijQWKRfs  Food and Entertaining            Recipes   \n",
      "1481     eEFm8v3dJrk  Food and Entertaining   Food Preparation   \n",
      "11974    vNjuU8S9pS8     Hobbies and Crafts  Tricks and Pranks   \n",
      "326327   doHyEnRIwXA     Hobbies and Crafts               Toys   \n",
      "\n",
      "                         task_description  \\\n",
      "243070          Make a Flaming Dr. Pepper   \n",
      "1123162              Make Chicken Marengo   \n",
      "1481           Cook Hemp Seeds for Eating   \n",
      "11974               Make a Dime Disappear   \n",
      "326327   Make a Bed for Your 12 Inch Doll   \n",
      "\n",
      "                                                  captions processed_captions  \n",
      "243070   {'start': [17.08, 20.11, 22.91, 24.52, 26.5, 2...                     \n",
      "1123162  {'start': [0.07, 2.73, 4.83, 7.23, 9.09, 10.76...                     \n",
      "1481     {'start': [15.23, 17.82, 20.03, 21.77, 23.49, ...                     \n",
      "11974    {'start': [0.0, 2.49, 4.92, 6.99, 9.78, 13.41,...                     \n",
      "326327   {'start': [3.56, 11.7, 16.19, 22.14, 29.18, 39...                     \n",
      "\n",
      "Sample validation data:\n",
      "           video_id             category_1        category_2  \\\n",
      "956867  UeDbeJ6FKbM  Food and Entertaining           Recipes   \n",
      "987300  EFgZ-OinuIM     Hobbies and Crafts       Photography   \n",
      "294100  toOTTE8TNfI     Hobbies and Crafts            Crafts   \n",
      "297392  JMN7AdRfwJE  Food and Entertaining  Food Preparation   \n",
      "666650  _ikMOF4KX84        Home and Garden      Housekeeping   \n",
      "\n",
      "                    task_description  \\\n",
      "956867       Make Super Easy S'mores   \n",
      "987300     Make a Vintage Style Edit   \n",
      "294100  Make a Rainbow Loom Bracelet   \n",
      "297392                Fry Dandelions   \n",
      "666650              Clean a Beer Tap   \n",
      "\n",
      "                                                 captions processed_captions  \n",
      "956867  {'start': [17.11, 46.53, 56.0, 59.48, 63.18, 7...                     \n",
      "987300  {'start': [2.17, 4.22, 6.2, 7.06, 9.59, 10.79,...                     \n",
      "294100  {'start': [0.03, 1.43, 4.25, 7.14, 11.51, 12.3...                     \n",
      "297392  {'start': [0.03, 6.54, 10.67, 14.0, 16.68, 21....                     \n",
      "666650  {'start': [0.06, 1.58, 2.9, 5.73, 7.37, 9.0, 1...                     \n",
      "\n",
      "Sample testing data:\n",
      "            video_id             category_1            category_2  \\\n",
      "141592   rjhCiW5af5s  Food and Entertaining               Recipes   \n",
      "1074317  SbrwMm6UF0E                 Health  Injury and Accidents   \n",
      "141355   qvjVvKx-2D4  Food and Entertaining      Food Preparation   \n",
      "285857   zYAiafzrFG8        Home and Garden             Gardening   \n",
      "438854   oHU_DVgFWjg     Hobbies and Crafts                Crafts   \n",
      "\n",
      "                                        task_description  \\\n",
      "141592                              Make Crawfish Bisque   \n",
      "1074317  Measure and Record Vital Signs During First Aid   \n",
      "141355                              Make Strawberry Bars   \n",
      "285857                             Divide Rhubarb Plants   \n",
      "438854                            Make a Paper Air Flyer   \n",
      "\n",
      "                                                  captions processed_captions  \n",
      "141592   {'start': [0.0, 2.25, 6.6, 11.3, 15.59, 20.6, ...                     \n",
      "1074317  {'start': [3.04, 5.02, 6.27, 8.65, 11.29, 13.3...                     \n",
      "141355   {'start': [0.0, 4.47, 7.74, 9.8, 12.3, 14.28, ...                     \n",
      "285857   {'start': [0.03, 1.74, 4.41, 6.18, 8.63, 13.83...                     \n",
      "438854   {'start': [0.26, 3.87, 8.16, 11.09, 20.58, 24....                     \n"
     ]
    }
   ],
   "source": [
    "# Step 4: Split Data into Training, Validation, and Testing Sets with Dataset Reduction\n",
    "from sklearn.model_selection import train_test_split\n",
    "\n",
    "# Display the original dataset size\n",
    "print(f\"Original dataset size: {len(preprocessed_data)}\")\n",
    "\n",
    "# Reduce the dataset to 10% of the original size for faster processing\n",
    "reduced_data = preprocessed_data.sample(frac=0.02, random_state=42)\n",
    "\n",
    "# Display the reduced dataset size\n",
    "print(f\"Reduced dataset size: {len(reduced_data)}\")\n",
    "\n",
    "# Optional: Inspect the distribution of any categories (if available)\n",
    "if 'category' in reduced_data.columns:  # Adjust column name if needed\n",
    "    print(\"Distribution of categories in reduced dataset:\")\n",
    "    print(reduced_data['category'].value_counts())\n",
    "\n",
    "# Split the reduced dataset into train+validation (90%) and test (10%)\n",
    "train_val_data, test_data = train_test_split(\n",
    "    reduced_data, test_size=0.1, random_state=42, shuffle=True\n",
    ")\n",
    "\n",
    "# Further split train+validation into training (80%) and validation (10%)\n",
    "train_data, val_data = train_test_split(\n",
    "    train_val_data, test_size=0.111, random_state=42, shuffle=True\n",
    ")\n",
    "\n",
    "# Display the sizes of the datasets\n",
    "print(f\"Training set size: {len(train_data)}\")\n",
    "print(f\"Validation set size: {len(val_data)}\")\n",
    "print(f\"Testing set size: {len(test_data)}\")\n",
    "\n",
    "# Print unique values in category_1 and category_2 columns\n",
    "print(\"Unique values in category_1:\")\n",
    "print(reduced_data['category_1'].unique())\n",
    "\n",
    "print(\"\\nUnique values in category_2:\")\n",
    "print(reduced_data['category_2'].unique())\n",
    "\n",
    "# Display a few rows from each dataset to verify\n",
    "print(\"\\nSample training data:\")\n",
    "print(train_data.head())\n",
    "\n",
    "print(\"\\nSample validation data:\")\n",
    "print(val_data.head())\n",
    "\n",
    "print(\"\\nSample testing data:\")\n",
    "print(test_data.head())"
   ]
  },
  {
   "cell_type": "markdown",
   "metadata": {},
   "source": [
    "## Step 5: Prepare Data Loaders for Fine-Tuning\n",
    "\n",
    "### What We Are Doing:\n",
    "**Purpose:** To prepare the training, validation, and testing datasets in a format that can be directly used by the generative model during fine-tuning.\n",
    "\n",
    "### Steps:\n",
    "1. Tokenize the `processed_captions` (input data) and `task_description` (target data) for the **training**, **validation**, and **testing** sets using the tokenizer of the chosen generative model (e.g., FLAN-T5 or GPT-4).\n",
    "2. Convert the tokenized data into PyTorch datasets or TensorFlow datasets (depending on your framework).\n",
    "3. Create data loaders for efficient batch processing during training and evaluation."
   ]
  },
  {
   "cell_type": "code",
   "execution_count": 5,
   "metadata": {},
   "outputs": [
    {
     "name": "stdout",
     "output_type": "stream",
     "text": [
      "Training Dataset Size: 19823\n",
      "Validation Dataset Size: 2476\n",
      "Testing Dataset Size: 2478\n"
     ]
    }
   ],
   "source": [
    "from transformers import BartTokenizer\n",
    "from torch.utils.data import Dataset, DataLoader\n",
    "\n",
    "# Load the tokenizer for BART\n",
    "tokenizer = BartTokenizer.from_pretrained(\"facebook/bart-large-cnn\")\n",
    "\n",
    "# Define the custom dataset class\n",
    "class TextGenerationDataset(Dataset):\n",
    "    def __init__(self, inputs, targets, tokenizer, max_length=512):\n",
    "        self.inputs = inputs\n",
    "        self.targets = targets\n",
    "        self.tokenizer = tokenizer\n",
    "        self.max_length = max_length\n",
    "\n",
    "    def __len__(self):\n",
    "        return len(self.inputs)\n",
    "\n",
    "    def __getitem__(self, idx):\n",
    "        input_text = self.inputs.iloc[idx]\n",
    "        target_text = self.targets.iloc[idx]\n",
    "\n",
    "        input_encodings = self.tokenizer(\n",
    "            input_text,\n",
    "            max_length=self.max_length,\n",
    "            padding=\"max_length\",\n",
    "            truncation=True,\n",
    "            return_tensors=\"pt\",\n",
    "        )\n",
    "        target_encodings = self.tokenizer(\n",
    "            target_text,\n",
    "            max_length=self.max_length,\n",
    "            padding=\"max_length\",\n",
    "            truncation=True,\n",
    "            return_tensors=\"pt\",\n",
    "        )\n",
    "\n",
    "        return {\n",
    "            \"input_ids\": input_encodings[\"input_ids\"].squeeze(0),\n",
    "            \"attention_mask\": input_encodings[\"attention_mask\"].squeeze(0),\n",
    "            \"labels\": target_encodings[\"input_ids\"].squeeze(0),\n",
    "        }\n",
    "\n",
    "# Create datasets and data loaders\n",
    "train_dataset = TextGenerationDataset(train_data[\"processed_captions\"], train_data[\"task_description\"], tokenizer)\n",
    "val_dataset = TextGenerationDataset(val_data[\"processed_captions\"], val_data[\"task_description\"], tokenizer)\n",
    "test_dataset = TextGenerationDataset(test_data[\"processed_captions\"], test_data[\"task_description\"], tokenizer)\n",
    "\n",
    "train_loader = DataLoader(train_dataset, batch_size=16, shuffle=True)\n",
    "val_loader = DataLoader(val_dataset, batch_size=16, shuffle=False)\n",
    "test_loader = DataLoader(test_dataset, batch_size=16, shuffle=False)\n",
    "\n",
    "# Display dataset sizes\n",
    "print(f\"Training Dataset Size: {len(train_dataset)}\")\n",
    "print(f\"Validation Dataset Size: {len(val_dataset)}\")\n",
    "print(f\"Testing Dataset Size: {len(test_dataset)}\")"
   ]
  },
  {
   "cell_type": "markdown",
   "metadata": {},
   "source": [
    "## Step 6: Fine-Tune the Generative Model\n",
    "\n",
    "### What We Are Doing:\n",
    "**Purpose**: Train the chosen generative model (e.g., FLAN-T5 or GPT-4) on the prepared training dataset and monitor its performance on the validation dataset to optimize the model's ability to generate accurate video summaries.\n",
    "\n",
    "### Steps:\n",
    "1. **Load the Pre-Trained Model**: Use a pre-trained generative model (e.g., FLAN-T5) suitable for sequence-to-sequence tasks.\n",
    "2. **Define the Training Loop**: Set up a training loop to update the model parameters using the training data and evaluate performance on the validation set.\n",
    "3. **Set Training Parameters**:\n",
    "   - Define the optimizer and learning rate scheduler.\n",
    "   - Choose the number of epochs.\n",
    "   - Use a loss function appropriate for text generation tasks (e.g., cross-entropy).\n",
    "4. **Monitor Validation Loss**: Track validation loss to ensure the model isn't overfitting.\n",
    "5. **Save Checkpoints**: Save the model at regular intervals to allow recovery or further fine-tuning."
   ]
  },
  {
   "cell_type": "markdown",
   "metadata": {},
   "source": [
    "Multi-GPU Method"
   ]
  },
  {
   "cell_type": "code",
   "execution_count": 7,
   "metadata": {},
   "outputs": [
    {
     "name": "stdout",
     "output_type": "stream",
     "text": [
      "Using 4 GPUs.\n"
     ]
    },
    {
     "name": "stderr",
     "output_type": "stream",
     "text": [
      "Epoch 1/3: 100%|██████████| 1239/1239 [13:45<00:00,  1.50it/s]\n"
     ]
    },
    {
     "name": "stdout",
     "output_type": "stream",
     "text": [
      "Epoch 1 Training Loss: 0.1557\n"
     ]
    },
    {
     "name": "stderr",
     "output_type": "stream",
     "text": [
      "Validation Epoch 1/3: 100%|██████████| 155/155 [00:43<00:00,  3.53it/s]\n",
      "Some non-default generation parameters are set in the model config. These should go into a GenerationConfig file (https://huggingface.co/docs/transformers/generation_strategies#save-a-custom-decoding-strategy-with-your-model) instead. This warning will be raised to an exception in v4.41.\n",
      "Non-default generation parameters: {'max_length': 142, 'min_length': 56, 'early_stopping': True, 'num_beams': 4, 'length_penalty': 2.0, 'no_repeat_ngram_size': 3, 'forced_bos_token_id': 0, 'forced_eos_token_id': 2}\n"
     ]
    },
    {
     "name": "stdout",
     "output_type": "stream",
     "text": [
      "Epoch 1 Validation Loss: 0.0523\n"
     ]
    },
    {
     "name": "stderr",
     "output_type": "stream",
     "text": [
      "Epoch 2/3:   0%|          | 0/1239 [00:00<?, ?it/s]/data1/reu/.local/lib/python3.8/site-packages/torch/nn/parallel/_functions.py:68: UserWarning: Was asked to gather along dimension 0, but all input tensors were scalars; will instead unsqueeze and return a vector.\n",
      "  warnings.warn('Was asked to gather along dimension 0, but all '\n",
      "Epoch 2/3: 100%|██████████| 1239/1239 [13:46<00:00,  1.50it/s]\n"
     ]
    },
    {
     "name": "stdout",
     "output_type": "stream",
     "text": [
      "Epoch 2 Training Loss: 0.0475\n"
     ]
    },
    {
     "name": "stderr",
     "output_type": "stream",
     "text": [
      "Validation Epoch 2/3: 100%|██████████| 155/155 [00:43<00:00,  3.52it/s]\n",
      "Some non-default generation parameters are set in the model config. These should go into a GenerationConfig file (https://huggingface.co/docs/transformers/generation_strategies#save-a-custom-decoding-strategy-with-your-model) instead. This warning will be raised to an exception in v4.41.\n",
      "Non-default generation parameters: {'max_length': 142, 'min_length': 56, 'early_stopping': True, 'num_beams': 4, 'length_penalty': 2.0, 'no_repeat_ngram_size': 3, 'forced_bos_token_id': 0, 'forced_eos_token_id': 2}\n"
     ]
    },
    {
     "name": "stdout",
     "output_type": "stream",
     "text": [
      "Epoch 2 Validation Loss: 0.0488\n"
     ]
    },
    {
     "name": "stderr",
     "output_type": "stream",
     "text": [
      "Epoch 3/3:   0%|          | 0/1239 [00:00<?, ?it/s]/data1/reu/.local/lib/python3.8/site-packages/torch/nn/parallel/_functions.py:68: UserWarning: Was asked to gather along dimension 0, but all input tensors were scalars; will instead unsqueeze and return a vector.\n",
      "  warnings.warn('Was asked to gather along dimension 0, but all '\n",
      "Epoch 3/3: 100%|██████████| 1239/1239 [13:46<00:00,  1.50it/s]\n"
     ]
    },
    {
     "name": "stdout",
     "output_type": "stream",
     "text": [
      "Epoch 3 Training Loss: 0.0411\n"
     ]
    },
    {
     "name": "stderr",
     "output_type": "stream",
     "text": [
      "Validation Epoch 3/3: 100%|██████████| 155/155 [00:43<00:00,  3.53it/s]\n",
      "Some non-default generation parameters are set in the model config. These should go into a GenerationConfig file (https://huggingface.co/docs/transformers/generation_strategies#save-a-custom-decoding-strategy-with-your-model) instead. This warning will be raised to an exception in v4.41.\n",
      "Non-default generation parameters: {'max_length': 142, 'min_length': 56, 'early_stopping': True, 'num_beams': 4, 'length_penalty': 2.0, 'no_repeat_ngram_size': 3, 'forced_bos_token_id': 0, 'forced_eos_token_id': 2}\n"
     ]
    },
    {
     "name": "stdout",
     "output_type": "stream",
     "text": [
      "Epoch 3 Validation Loss: 0.0458\n",
      "Fine-tuning complete!\n"
     ]
    }
   ],
   "source": [
    "from transformers import BartForConditionalGeneration, AdamW\n",
    "import torch\n",
    "from tqdm import tqdm\n",
    "\n",
    "# Load the pre-trained BART model\n",
    "model = BartForConditionalGeneration.from_pretrained(\"facebook/bart-large-cnn\")\n",
    "device = torch.device(\"cuda\" if torch.cuda.is_available() else \"cpu\")\n",
    "\n",
    "# Wrap the model with DataParallel for multi-GPU support\n",
    "if torch.cuda.device_count() > 1:\n",
    "    print(f\"Using {torch.cuda.device_count()} GPUs.\")\n",
    "    model = torch.nn.DataParallel(model)\n",
    "\n",
    "model = model.to(device)\n",
    "\n",
    "# Define optimizer\n",
    "optimizer = AdamW(model.parameters(), lr=5e-5)\n",
    "\n",
    "# Training loop\n",
    "epochs = 3\n",
    "for epoch in range(epochs):\n",
    "    model.train()  # Set the model to training mode\n",
    "    train_loss = 0\n",
    "    for batch in tqdm(train_loader, desc=f\"Epoch {epoch+1}/{epochs}\"):\n",
    "        # Move batch to device\n",
    "        input_ids = batch[\"input_ids\"].to(device)\n",
    "        attention_mask = batch[\"attention_mask\"].to(device)\n",
    "        labels = batch[\"labels\"].to(device)\n",
    "\n",
    "        # Zero gradients\n",
    "        optimizer.zero_grad()\n",
    "\n",
    "        # Forward pass\n",
    "        outputs = model(input_ids=input_ids, attention_mask=attention_mask, labels=labels)\n",
    "\n",
    "        # Average the loss across GPUs\n",
    "        loss = outputs.loss.mean() if isinstance(outputs.loss, torch.Tensor) else outputs.loss\n",
    "        train_loss += loss.item()\n",
    "\n",
    "        # Backward pass\n",
    "        loss.backward()\n",
    "        optimizer.step()\n",
    "\n",
    "    print(f\"Epoch {epoch+1} Training Loss: {train_loss / len(train_loader):.4f}\")\n",
    "\n",
    "    # Validation loop\n",
    "    model.eval()  # Set the model to evaluation mode\n",
    "    val_loss = 0\n",
    "    with torch.no_grad():\n",
    "        for batch in tqdm(val_loader, desc=f\"Validation Epoch {epoch+1}/{epochs}\"):\n",
    "            input_ids = batch[\"input_ids\"].to(device)\n",
    "            attention_mask = batch[\"attention_mask\"].to(device)\n",
    "            labels = batch[\"labels\"].to(device)\n",
    "\n",
    "            outputs = model(input_ids=input_ids, attention_mask=attention_mask, labels=labels)\n",
    "            val_loss += outputs.loss.mean().item() if isinstance(outputs.loss, torch.Tensor) else outputs.loss.item()\n",
    "\n",
    "    print(f\"Epoch {epoch+1} Validation Loss: {val_loss / len(val_loader):.4f}\")\n",
    "\n",
    "    # Save model checkpoint\n",
    "    if isinstance(model, torch.nn.DataParallel):\n",
    "        model.module.save_pretrained(f\"model_checkpoint_bart_epoch_{epoch+1}\")\n",
    "    else:\n",
    "        model.save_pretrained(f\"model_checkpoint_bart_epoch_{epoch+1}\")\n",
    "\n",
    "print(\"Fine-tuning complete!\")"
   ]
  },
  {
   "cell_type": "markdown",
   "metadata": {},
   "source": [
    "## Step 7: Evaluate the Fine-Tuned Model\n",
    "\n",
    "### What We Are Doing:\n",
    "**Purpose:** Evaluate the fine-tuned model's performance using standard text generation metrics to compare its predictions with the ground truth summaries.\n",
    "\n",
    "### Steps:\n",
    "1. **Generate Summaries:**\n",
    "   - Use the fine-tuned model to generate summaries for the test dataset.\n",
    "2. **Post-Process Outputs:**\n",
    "   - Decode the generated summaries into human-readable text.\n",
    "   - Ensure that the predicted and reference summaries are in the same format for evaluation.\n",
    "3. **Compute Evaluation Metrics:**\n",
    "   - Use ROUGE and BLEU to evaluate the quality of the generated summaries.\n",
    "   - Compute precision, recall, and F1-score for classification accuracy.\n",
    "4. **Analyze Results:**\n",
    "   - Print and inspect sample outputs for qualitative analysis.\n",
    "   - Display the computed evaluation scores for quantitative analysis."
   ]
  },
  {
   "cell_type": "code",
   "execution_count": 9,
   "metadata": {},
   "outputs": [
    {
     "name": "stdout",
     "output_type": "stream",
     "text": [
      "Generating summaries for the test dataset...\n"
     ]
    },
    {
     "name": "stderr",
     "output_type": "stream",
     "text": [
      "/data1/reu/.local/lib/python3.8/site-packages/transformers/generation/utils.py:1180: UserWarning: Unfeasible length constraints: `min_length` (56) is larger than the maximum possible length (50). Generation will stop at the defined maximum length. You should decrease the minimum length and/or increase the maximum length.\n",
      "  warnings.warn(\n"
     ]
    },
    {
     "name": "stderr",
     "output_type": "stream",
     "text": [
      "/tmp/ipykernel_2492608/2264573665.py:30: FutureWarning: load_metric is deprecated and will be removed in the next major version of datasets. Use 'evaluate.load' instead, from the new library 🤗 Evaluate: https://huggingface.co/docs/evaluate\n",
      "  rouge_metric = load_metric(\"rouge\")\n",
      "/data1/reu/.local/lib/python3.8/site-packages/datasets/load.py:759: FutureWarning: The repository for rouge contains custom code which must be executed to correctly load the metric. You can inspect the repository content at https://raw.githubusercontent.com/huggingface/datasets/2.19.0/metrics/rouge/rouge.py\n",
      "You can avoid this message in future by passing the argument `trust_remote_code=True`.\n",
      "Passing `trust_remote_code=True` will be mandatory to load this metric from the next major release of `datasets`.\n",
      "  warnings.warn(\n",
      "/data1/reu/.local/lib/python3.8/site-packages/datasets/load.py:759: FutureWarning: The repository for bleu contains custom code which must be executed to correctly load the metric. You can inspect the repository content at https://raw.githubusercontent.com/huggingface/datasets/2.19.0/metrics/bleu/bleu.py\n",
      "You can avoid this message in future by passing the argument `trust_remote_code=True`.\n",
      "Passing `trust_remote_code=True` will be mandatory to load this metric from the next major release of `datasets`.\n",
      "  warnings.warn(\n"
     ]
    },
    {
     "name": "stdout",
     "output_type": "stream",
     "text": [
      "\n",
      "ROUGE Scores:\n",
      "rouge1: Score(precision=0.03549905838041384, recall=0.2377218758521268, fmeasure=0.060967263059712624)\n",
      "rouge2: Score(precision=0.006790793465252899, recall=0.05033152856246072, fmeasure=0.011806304428436554)\n",
      "rougeL: Score(precision=0.03529728275490943, recall=0.2370424879024075, fmeasure=0.060648700697233424)\n",
      "rougeLsum: Score(precision=0.035337637880010306, recall=0.2369188731423448, fmeasure=0.06069867365534483)\n",
      "\n",
      "BLEU Score:\n",
      "{'bleu': 0.0017338868702061413, 'precisions': [0.03457089050309389, 0.006595975619938215, 0.0003314885276144356, 0.0001195707410396676], 'brevity_penalty': 1.0, 'length_ratio': 6.825192802056555, 'translation_length': 74340, 'reference_length': 10892}\n",
      "\n",
      "Sample Outputs:\n",
      "Generated Summary: Make a Duct Tape Bracelet out of a T Shaped Plastic Bottle (Basement Backsplash Method) With a Plastic Bag and a Coffee Mug and a Plastic Retaining Container (Beverly Method)\n",
      "Reference Summary: Make Crawfish Bisque\n",
      "--------------------------------------------------\n",
      "Generated Summary: Make a Duct Tape Bracelet out of a T Shaped Plastic Bottle (Basement Backsplash Method) With a Plastic Bag and a Coffee Mug and a Plastic Retaining Container (Beverly Method)\n",
      "Reference Summary: Measure and Record Vital Signs During First Aid\n",
      "--------------------------------------------------\n",
      "Generated Summary: Make a Duct Tape Bracelet out of a T Shaped Plastic Bottle (Basement Backsplash Method) With a Plastic Bag and a Coffee Mug and a Plastic Retaining Container (Beverly Method)\n",
      "Reference Summary: Make Strawberry Bars\n",
      "--------------------------------------------------\n",
      "Generated Summary: Make a Duct Tape Bracelet out of a T Shaped Plastic Bottle (Basement Backsplash Method) With a Plastic Bag and a Coffee Mug and a Plastic Retaining Container (Beverly Method)\n",
      "Reference Summary: Divide Rhubarb Plants\n",
      "--------------------------------------------------\n",
      "Generated Summary: Make a Duct Tape Bracelet out of a T Shaped Plastic Bottle (Basement Backsplash Method) With a Plastic Bag and a Coffee Mug and a Plastic Retaining Container (Beverly Method)\n",
      "Reference Summary: Make a Paper Air Flyer\n",
      "--------------------------------------------------\n"
     ]
    }
   ],
   "source": [
    "from transformers import BartTokenizer\n",
    "from datasets import load_metric\n",
    "import torch\n",
    "\n",
    "# Step 1: Load the tokenizer\n",
    "tokenizer = BartTokenizer.from_pretrained(\"facebook/bart-large-cnn\")\n",
    "\n",
    "# Check if the model is wrapped in DataParallel\n",
    "if isinstance(model, torch.nn.DataParallel):\n",
    "    model_to_use = model.module  # Access the actual model\n",
    "else:\n",
    "    model_to_use = model\n",
    "\n",
    "# Step 2: Generate summaries for the test dataset\n",
    "model_to_use.eval()  # Ensure the model is in evaluation mode\n",
    "generated_summaries = []\n",
    "reference_summaries = []\n",
    "\n",
    "print(\"Generating summaries for the test dataset...\")\n",
    "for batch in test_loader:\n",
    "    input_ids = batch[\"input_ids\"].to(device)\n",
    "    attention_mask = batch[\"attention_mask\"].to(device)\n",
    "\n",
    "    # Generate predictions\n",
    "    outputs = model_to_use.generate(input_ids=input_ids, attention_mask=attention_mask, max_length=50)\n",
    "    generated_summaries.extend(tokenizer.batch_decode(outputs, skip_special_tokens=True))\n",
    "    reference_summaries.extend(tokenizer.batch_decode(batch[\"labels\"], skip_special_tokens=True))\n",
    "\n",
    "# Step 3: Compute evaluation metrics\n",
    "rouge_metric = load_metric(\"rouge\")\n",
    "bleu_metric = load_metric(\"bleu\")\n",
    "\n",
    "# Prepare data for BLEU (requires tokenized format)\n",
    "generated_tokenized = [summary.split() for summary in generated_summaries]\n",
    "reference_tokenized = [[summary.split()] for summary in reference_summaries]  # BLEU expects a list of lists\n",
    "\n",
    "# Compute ROUGE scores\n",
    "rouge_scores = rouge_metric.compute(predictions=generated_summaries, references=reference_summaries)\n",
    "print(\"\\nROUGE Scores:\")\n",
    "for key, value in rouge_scores.items():\n",
    "    print(f\"{key}: {value.mid}\")\n",
    "\n",
    "# Compute BLEU score\n",
    "bleu_score = bleu_metric.compute(predictions=generated_tokenized, references=reference_tokenized)\n",
    "print(\"\\nBLEU Score:\")\n",
    "print(bleu_score)\n",
    "\n",
    "# Step 4: Display sample outputs\n",
    "print(\"\\nSample Outputs:\")\n",
    "for i in range(5):  # Display 5 samples\n",
    "    print(f\"Generated Summary: {generated_summaries[i]}\")\n",
    "    print(f\"Reference Summary: {reference_summaries[i]}\")\n",
    "    print(\"-\" * 50)"
   ]
  },
  {
   "cell_type": "code",
   "execution_count": 28,
   "metadata": {},
   "outputs": [
    {
     "name": "stdout",
     "output_type": "stream",
     "text": [
      "\n",
      "ROUGE Scores Dictionary:\n",
      "{'ROUGE-1': [0.03549905838041384, 0.2377218758521268, 0.060967263059712624], 'ROUGE-2': [0.006790793465252899, 0.05033152856246072, 0.011806304428436554], 'ROUGE-L': [0.03529728275490943, 0.2370424879024075, 0.060648700697233424], 'ROUGE-Lsum': [0.035337637880010306, 0.2369188731423448, 0.06069867365534483]}\n"
     ]
    },
    {
     "data": {
      "image/png": "[encoded data removed]",
      "text/plain": [
       "<Figure size 1000x600 with 1 Axes>"
      ]
     },
     "metadata": {},
     "output_type": "display_data"
    },
    {
     "data": {
      "image/png": "[encoded data removed]",
      "text/plain": [
       "<Figure size 1000x600 with 1 Axes>"
      ]
     },
     "metadata": {},
     "output_type": "display_data"
    },
    {
     "name": "stdout",
     "output_type": "stream",
     "text": [
      "\n",
      "Summary Metrics:\n",
      "BLEU: 0.0017338868702061413\n",
      "Brevity Penalty: 1.0\n",
      "Length Ratio: 6.825192802056555\n",
      "Translation Length: 74340\n",
      "Reference Length: 10892\n"
     ]
    }
   ],
   "source": [
    "import matplotlib.pyplot as plt\n",
    "import numpy as np\n",
    "\n",
    "# Inspect the structure of rouge_scores\n",
    "print(\"\\nROUGE Scores Dictionary:\")\n",
    "print(rouge_scores)\n",
    "\n",
    "# Dynamically extract ROUGE scores\n",
    "rouge_scores_dict = rouge_scores  # Assuming `rouge_scores` is available\n",
    "\n",
    "rouge_scores = {\n",
    "    \"ROUGE-1\": rouge_scores_dict[\"ROUGE-1\"],\n",
    "    \"ROUGE-2\": rouge_scores_dict[\"ROUGE-2\"],\n",
    "    \"ROUGE-L\": rouge_scores_dict[\"ROUGE-L\"],\n",
    "    \"ROUGE-Lsum\": rouge_scores_dict[\"ROUGE-Lsum\"],\n",
    "}\n",
    "\n",
    "rouge_metrics = [\"Precision\", \"Recall\", \"F-measure\"]\n",
    "\n",
    "# BLEU score dynamically extracted from bleu_score\n",
    "bleu_score_dict = bleu_score  # Assuming `bleu_score` is available\n",
    "\n",
    "bleu_ngram = [\"1-gram\", \"2-gram\", \"3-gram\", \"4-gram\"]\n",
    "bleu_precisions = bleu_score_dict[\"precisions\"]  # BLEU precisions\n",
    "\n",
    "# Plot ROUGE scores\n",
    "fig, ax = plt.subplots(figsize=(10, 6))\n",
    "x = np.arange(len(rouge_metrics))\n",
    "width = 0.2\n",
    "\n",
    "for i, (key, values) in enumerate(rouge_scores.items()):\n",
    "    ax.bar(x + i * width, values, width, label=key)\n",
    "\n",
    "ax.set_xticks(x + width * 1.5)\n",
    "ax.set_xticklabels(rouge_metrics)\n",
    "ax.set_title(\"ROUGE Scores\")\n",
    "ax.set_ylabel(\"Score\")\n",
    "ax.legend()\n",
    "plt.tight_layout()\n",
    "plt.show()\n",
    "fig.savefig(\"Graphs/Text_Generation_BART/rouge_scores_plot.png\", dpi=300, bbox_inches=\"tight\")\n",
    "\n",
    "# Plot BLEU score n-gram precisions\n",
    "fig, ax = plt.subplots(figsize=(10, 6))\n",
    "ax.bar(bleu_ngram, bleu_precisions, color=\"skyblue\")\n",
    "ax.set_title(\"BLEU Score N-gram Precisions\")\n",
    "ax.set_ylabel(\"Precision\")\n",
    "plt.tight_layout()\n",
    "plt.show()\n",
    "fig.savefig(\"Graphs/Text_Generation_BART/bleu_scores_plot.png\", dpi=300, bbox_inches=\"tight\")\n",
    "\n",
    "# Display BLEU and ROUGE summary\n",
    "summary = {\n",
    "    \"BLEU\": bleu_score_dict[\"bleu\"],\n",
    "    \"Brevity Penalty\": bleu_score_dict[\"brevity_penalty\"],\n",
    "    \"Length Ratio\": bleu_score_dict[\"length_ratio\"],\n",
    "    \"Translation Length\": bleu_score_dict[\"translation_length\"],\n",
    "    \"Reference Length\": bleu_score_dict[\"reference_length\"]\n",
    "}\n",
    "print(\"\\nSummary Metrics:\")\n",
    "for k, v in summary.items():\n",
    "    print(f\"{k}: {v}\")"
   ]
  },
  {
   "cell_type": "markdown",
   "metadata": {},
   "source": []
  }
 ],
 "metadata": {
  "kernelspec": {
   "display_name": "Python 3",
   "language": "python",
   "name": "python3"
  },
  "language_info": {
   "codemirror_mode": {
    "name": "ipython",
    "version": 3
   },
   "file_extension": ".py",
   "mimetype": "text/x-python",
   "name": "python",
   "nbconvert_exporter": "python",
   "pygments_lexer": "ipython3",
   "version": "3.8.10"
  }
 },
 "nbformat": 4,
 "nbformat_minor": 2
}
